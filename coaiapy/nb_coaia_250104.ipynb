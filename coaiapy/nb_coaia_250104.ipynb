{
 "cells": [
  {
   "cell_type": "markdown",
   "metadata": {},
   "source": [
    "# NOT SO GOOD \n",
    "\n",
    "\n",
    "\n",
    "\n",
    "Import the necessary libraries, including requests and cofuse."
   ]
  },
  {
   "cell_type": "code",
   "execution_count": 1,
   "metadata": {},
   "outputs": [],
   "source": [
    "# Import Required Libraries\n",
    "\n",
    "# Import the necessary libraries\n",
    "import requests\n",
    "from requests.auth import HTTPBasicAuth\n",
    "import datetime\n",
    "\n",
    "# Assuming cofuse.py is in the same directory and contains the necessary functions\n",
    "from cofuse import create_dataset, add_trace"
   ]
  },
  {
   "cell_type": "markdown",
   "metadata": {},
   "source": [
    "# Load Configuration\n",
    "Load the configuration settings required for authentication and API endpoints."
   ]
  },
  {
   "cell_type": "code",
   "execution_count": null,
   "metadata": {},
   "outputs": [],
   "source": [
    "# Load Configuration\n",
    "\n",
    "# Load the configuration settings required for authentication and API endpoints\n",
    "def read_config():\n",
    "    return {\n",
    "        'langfuse_public_key': 'your_public_key_here',\n",
    "        'langfuse_secret_key': 'your_secret_key_here',\n",
    "        'langfuse_base_url': 'https://api.langfuse.com'\n",
    "    }\n",
    "\n",
    "# Example usage of read_config function\n",
    "config = read_config()\n",
    "print(config)"
   ]
  },
  {
   "cell_type": "markdown",
   "metadata": {},
   "source": [
    "# Create Session\n",
    "Create a new session using the create_session function from cofuse.py."
   ]
  },
  {
   "cell_type": "code",
   "execution_count": null,
   "metadata": {},
   "outputs": [],
   "source": [
    "# Create Session\n",
    "\n",
    "# Documentation: Create a new session using the create_session function from cofuse.py\n",
    "\"\"\"\n",
    "This section demonstrates how to create a new session using the `create_session` function from `cofuse.py`.\n",
    "\"\"\"\n",
    "\n",
    "# Implementation: Create a new session\n",
    "def create_session(session_name):\n",
    "    c = read_config()\n",
    "    auth = HTTPBasicAuth(c['langfuse_public_key'], c['langfuse_secret_key'])\n",
    "    url = f\"{c['langfuse_base_url']}/api/public/v2/sessions\"\n",
    "    data = {\"name\": session_name}\n",
    "    r = requests.post(url, json=data, auth=auth)\n",
    "    return r.text\n",
    "\n",
    "# Example usage of create_session function\n",
    "session_response = create_session(\"Test Session\")\n",
    "print(session_response)"
   ]
  },
  {
   "cell_type": "markdown",
   "metadata": {},
   "source": [
    "# Add Node to Session\n",
    "Add a node to the created session using the add_node function from cofuse.py."
   ]
  },
  {
   "cell_type": "code",
   "execution_count": null,
   "metadata": {},
   "outputs": [],
   "source": [
    "# Add Node to Session\n",
    "\n",
    "# Documentation: Add a node to the created session using the add_node function from cofuse.py\n",
    "\"\"\"\n",
    "This section demonstrates how to add a node to the created session using the `add_node` function from `cofuse.py`.\n",
    "\"\"\"\n",
    "\n",
    "# Implementation: Add a node to the created session\n",
    "def add_node(session_id, node_name):\n",
    "    c = read_config()\n",
    "    auth = HTTPBasicAuth(c['langfuse_public_key'], c['langfuse_secret_key'])\n",
    "    url = f\"{c['langfuse_base_url']}/api/public/v2/sessions/{session_id}/nodes\"\n",
    "    data = {\"name\": node_name}\n",
    "    r = requests.post(url, json=data, auth=auth)\n",
    "    return r.text\n",
    "\n",
    "# Example usage of add_node function\n",
    "# Assuming session_id is obtained from the session_response\n",
    "import json\n",
    "session_id = json.loads(session_response).get('id')\n",
    "node_response = add_node(session_id, \"Test Node\")\n",
    "print(node_response)"
   ]
  },
  {
   "cell_type": "markdown",
   "metadata": {},
   "source": [
    "# List Prompts\n",
    "List all available prompts using the list_prompts function from cofuse.py."
   ]
  },
  {
   "cell_type": "code",
   "execution_count": null,
   "metadata": {},
   "outputs": [],
   "source": [
    "# List Prompts\n",
    "\n",
    "# Documentation: List all available prompts using the list_prompts function from cofuse.py\n",
    "\"\"\"\n",
    "This section demonstrates how to list all available prompts using the `list_prompts` function from `cofuse.py`.\n",
    "\"\"\"\n",
    "\n",
    "# Implementation: List all available prompts\n",
    "def list_prompts():\n",
    "    c = read_config()\n",
    "    auth = HTTPBasicAuth(c['langfuse_public_key'], c['langfuse_secret_key'])\n",
    "    url = f\"{c['langfuse_base_url']}/api/public/v2/prompts\"\n",
    "    r = requests.get(url, auth=auth)\n",
    "    return r.json()\n",
    "\n",
    "# Example usage of list_prompts function\n",
    "prompts = list_prompts()\n",
    "print(prompts)"
   ]
  },
  {
   "cell_type": "markdown",
   "metadata": {},
   "source": [
    "# Create Prompts\n",
    "Create new prompts using the create_prompt function from cofuse.py."
   ]
  },
  {
   "cell_type": "code",
   "execution_count": null,
   "metadata": {},
   "outputs": [],
   "source": [
    "# Create Prompts\n",
    "\n",
    "# Documentation: Create new prompts using the create_prompt function from cofuse.py\n",
    "\"\"\"\n",
    "This section demonstrates how to create new prompts using the `create_prompt` function from `cofuse.py`.\n",
    "\"\"\"\n",
    "\n",
    "# Implementation: Create new prompts\n",
    "def create_prompt(prompt_name, prompt_content):\n",
    "    c = read_config()\n",
    "    auth = HTTPBasicAuth(c['langfuse_public_key'], c['langfuse_secret_key'])\n",
    "    url = f\"{c['langfuse_base_url']}/api/public/v2/prompts\"\n",
    "    data = {\n",
    "        \"name\": prompt_name,\n",
    "        \"content\": prompt_content\n",
    "    }\n",
    "    r = requests.post(url, json=data, auth=auth)\n",
    "    return r.text\n",
    "\n",
    "# Example usage of create_prompt function\n",
    "prompt_response = create_prompt(\"Test Prompt\", \"This is a test prompt content.\")\n",
    "print(prompt_response)"
   ]
  }
 ],
 "metadata": {
  "kernelspec": {
   "display_name": "coaiapy",
   "language": "python",
   "name": "python3"
  },
  "language_info": {
   "codemirror_mode": {
    "name": "ipython",
    "version": 3
   },
   "file_extension": ".py",
   "mimetype": "text/x-python",
   "name": "python",
   "nbconvert_exporter": "python",
   "pygments_lexer": "ipython3",
   "version": "3.10.15"
  }
 },
 "nbformat": 4,
 "nbformat_minor": 2
}
